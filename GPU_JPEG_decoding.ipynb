{
 "cells": [
  {
   "cell_type": "code",
   "execution_count": 10,
   "metadata": {},
   "outputs": [],
   "source": [
    "import torch\n",
    "import torch.nn as nn\n",
    "import torch.optim as optim\n",
    "import torch.nn.functional as F\n",
    "import torch.backends.cudnn as cudnn\n",
    "import torchvision\n",
    "import torchvision.transforms as transforms\n",
    "import os\n",
    "import argparse\n",
    "from models import *\n",
    "import numpy as np\n",
    "import time\n",
    "import cv2\n",
    "from PIL import Image\n",
    "import torch.utils.data as Data\n",
    "import re\n",
    "from torch.utils.data import Dataset\n",
    "\n",
    "import torchnvjpeg\n",
    "from multiprocessing.pool import ThreadPool"
   ]
  },
  {
   "cell_type": "code",
   "execution_count": 11,
   "metadata": {},
   "outputs": [],
   "source": [
    "num_images = 50000\n",
    "hidden_dimension  = 15\n",
    "weights = []\n",
    "batch_size = 128\n",
    "start_epoch = 0\n",
    "lr = 0.01\n",
    "test_nSamples = 10000\n",
    "init_width = 32\n",
    "init_height = 32\n",
    "batch_size_test = 100"
   ]
  },
  {
   "cell_type": "code",
   "execution_count": 12,
   "metadata": {},
   "outputs": [],
   "source": [
    "imgDir = './cifar_10_images/train_cifar10'\n",
    "test_imgDir = './cifar_10_images/test_cifar10'"
   ]
  },
  {
   "cell_type": "code",
   "execution_count": 13,
   "metadata": {},
   "outputs": [],
   "source": [
    "batch_size = 128\n",
    "max_cpu_threads = 8\n",
    "device_id = 0\n",
    "max_image_size = 32 * 32 *3 \n",
    "#image_path = \"/export/hdd/scratch/hchen799/JPEG_GPU_decode/torchnvjpeg/images/cat.jpg\"\n",
    "#data = open(image_path, 'rb').read()\n",
    "#data_list = [data for _ in range(batch_size)]\n",
    "\n",
    "#decoder_list = [torchnvjpeg.Decoder() for _ in range(batch_size)]"
   ]
  },
  {
   "cell_type": "code",
   "execution_count": 14,
   "metadata": {},
   "outputs": [],
   "source": [
    "def is_image_file(filename):\n",
    "    return any(filename.endswith(extension) for extension in ['.png', '.jpg', '.jpeg', '.PNG', '.JPG', '.JPEG'])"
   ]
  },
  {
   "cell_type": "code",
   "execution_count": 15,
   "metadata": {},
   "outputs": [],
   "source": [
    "def load_image_path(imgDir):\n",
    "\n",
    "    all_training_files=os.walk(imgDir)\n",
    "    train_files=[]\n",
    "    train_imageNames=[]\n",
    "    train_nSamples=0\n",
    "    for path,direction,filelist in all_training_files:\n",
    "        files = [file for file in filelist if os.path.isfile(os.path.join(path, file))]\n",
    "        imageNames = [file.split('.')[0] for file in files if is_image_file(file)]\n",
    "        files = [os.path.join(path, file) for file in files if is_image_file(file)]\n",
    "        train_files.append(files)\n",
    "        train_imageNames.append(imageNames)\n",
    "        train_nSamples=train_nSamples+len(files)\n",
    "    train_files=sum(train_files,[])\n",
    "    train_imageNames=sum(train_imageNames,[])\n",
    "    #print(train_imageNames)\n",
    "    train_imageNames.sort(key = lambda i:int(re.match(r'(\\d+)',i).group()))\n",
    "    #train_imageNames.sort(key = lambda x: int(x[:-4]))\n",
    "    train_image_path = []\n",
    "    for i in range (len(train_imageNames)):\n",
    "        string = imgDir + '/' + train_imageNames[i] + '.jpg'\n",
    "        train_image_path.append(string)\n",
    "    return train_image_path"
   ]
  },
  {
   "cell_type": "code",
   "execution_count": 16,
   "metadata": {},
   "outputs": [],
   "source": [
    "def load_image_path_test(imgDir):\n",
    "\n",
    "    all_training_files=os.walk(imgDir)\n",
    "    train_files=[]\n",
    "    train_imageNames=[]\n",
    "    train_nSamples=0\n",
    "    for path,direction,filelist in all_training_files:\n",
    "        files = [file for file in filelist if os.path.isfile(os.path.join(path, file))]\n",
    "        imageNames = [file.split('.')[0] for file in files if is_image_file(file)]\n",
    "        files = [os.path.join(path, file) for file in files if is_image_file(file)]\n",
    "        train_files.append(files)\n",
    "        train_imageNames.append(imageNames)\n",
    "        train_nSamples=train_nSamples+len(files)\n",
    "    train_files=sum(train_files,[])\n",
    "    train_imageNames=sum(train_imageNames,[])\n",
    "    #print(train_imageNames)\n",
    "    train_imageNames.sort(key = lambda i:int(re.match(r'(\\d+)',i).group()))\n",
    "    #train_imageNames.sort(key = lambda x: int(x[:-4]))\n",
    "    train_image_path = []\n",
    "    for i in range (len(train_imageNames)):\n",
    "        string = imgDir + '/' + train_imageNames[i] + '.jpg'\n",
    "        train_image_path.append(string)\n",
    "    return train_image_path"
   ]
  },
  {
   "cell_type": "code",
   "execution_count": 17,
   "metadata": {},
   "outputs": [
    {
     "name": "stdout",
     "output_type": "stream",
     "text": [
      "./cifar_10_images/train_cifar10/0.jpg\n"
     ]
    }
   ],
   "source": [
    "train_image_path = load_image_path(imgDir)\n",
    "print(train_image_path[0])"
   ]
  },
  {
   "cell_type": "code",
   "execution_count": 18,
   "metadata": {},
   "outputs": [],
   "source": [
    "index_list = torch.randperm(50000)"
   ]
  },
  {
   "cell_type": "code",
   "execution_count": 19,
   "metadata": {},
   "outputs": [
    {
     "name": "stdout",
     "output_type": "stream",
     "text": [
      "tensor([21043,  9611,  5466,  ..., 36841, 41202, 15014])\n"
     ]
    }
   ],
   "source": [
    "print(index_list)"
   ]
  },
  {
   "cell_type": "code",
   "execution_count": 21,
   "metadata": {},
   "outputs": [],
   "source": [
    "# iteration = int(50000/batch_size)\n",
    "# iteration = 1\n",
    "# decoder = torchnvjpeg.Decoder(0, 0, True, device_id, batch_size, max_cpu_threads, max_image_size, torch.cuda.current_stream(device_id))\n",
    "# start_decoding_time = time.time()\n",
    "# for i in range (iteration):\n",
    "#     jpeg_cpu_data_list = []\n",
    "#     for j in range (batch_size):\n",
    "#         index = index_list[i * batch_size + j]\n",
    "#         index = 0\n",
    "#         jpeg_cpu = open(train_image_path[index], 'rb').read()\n",
    "#         jpeg_cpu_data_list.append(jpeg_cpu)\n",
    "#     image_tensor_list = decoder.batch_decode(jpeg_cpu_data_list)\n",
    "# end_encoding_time = time.time()\n",
    "# print(\"the JPEG decoding time on GPU is\",end_encoding_time - start_decoding_time)\n",
    "        "
   ]
  },
  {
   "cell_type": "code",
   "execution_count": 23,
   "metadata": {},
   "outputs": [],
   "source": [
    "#print(image_tensor_list[0])"
   ]
  },
  {
   "cell_type": "code",
   "execution_count": 24,
   "metadata": {},
   "outputs": [],
   "source": [
    "transform_train = transforms.Compose([\n",
    "    #transforms.ToPILImage(),\n",
    "    #transforms.RandomCrop(32, padding=4),\n",
    "    #transforms.RandomHorizontalFlip(),\n",
    "    transforms.ToTensor(),\n",
    "    #transforms.Normalize((0.48947954, 0.48043759, 0.4465), (0.24513403, 0.24289503, 0.25973428)),\n",
    "])"
   ]
  },
  {
   "cell_type": "code",
   "execution_count": 25,
   "metadata": {},
   "outputs": [
    {
     "name": "stdout",
     "output_type": "stream",
     "text": [
      "<PIL.Image.Image image mode=RGB size=32x32 at 0x7F8BBD4968B0>\n"
     ]
    }
   ],
   "source": [
    "imgpath = train_image_path[0]\n",
    "img = Image.open(imgpath).convert('RGB')\n",
    "print(img)"
   ]
  },
  {
   "cell_type": "code",
   "execution_count": 26,
   "metadata": {},
   "outputs": [
    {
     "name": "stdout",
     "output_type": "stream",
     "text": [
      "(32, 32, 3)\n"
     ]
    }
   ],
   "source": [
    "image_array = np.asarray(img)\n",
    "print(image_array.shape)"
   ]
  },
  {
   "cell_type": "code",
   "execution_count": 27,
   "metadata": {},
   "outputs": [
    {
     "name": "stdout",
     "output_type": "stream",
     "text": [
      "torch.Size([3, 32, 32])\n",
      "tensor([[[ 58.,  44.,  55.,  ..., 158., 151., 149.],\n",
      "         [ 19.,   3.,  20.,  ..., 120., 116., 124.],\n",
      "         [ 25.,  17.,  50.,  ..., 122., 124., 112.],\n",
      "         ...,\n",
      "         [213., 195., 198.,  ..., 160.,  55.,  58.],\n",
      "         [180., 164., 179.,  ..., 179.,  88.,  78.],\n",
      "         [181., 166., 177.,  ..., 219., 147., 115.]],\n",
      "\n",
      "        [[ 61.,  44.,  47.,  ..., 134., 127., 123.],\n",
      "         [ 21.,   0.,   8.,  ...,  87.,  83.,  89.],\n",
      "         [ 23.,   7.,  28.,  ...,  82.,  84.,  71.],\n",
      "         ...,\n",
      "         [168., 151., 159.,  ..., 134.,  30.,  30.],\n",
      "         [139., 126., 144.,  ..., 148.,  63.,  56.],\n",
      "         [145., 132., 145.,  ..., 182., 121.,  97.]],\n",
      "\n",
      "        [[ 66.,  42.,  36.,  ..., 106.,  99.,  98.],\n",
      "         [ 18.,   0.,   0.,  ...,  54.,  50.,  59.],\n",
      "         [ 11.,   0.,  14.,  ...,  46.,  48.,  39.],\n",
      "         ...,\n",
      "         [ 83.,  52.,  42.,  ...,  85.,   0.,  26.],\n",
      "         [ 85.,  55.,  50.,  ..., 104.,  33.,  45.],\n",
      "         [111.,  86.,  72.,  ..., 137.,  84.,  75.]]])\n"
     ]
    }
   ],
   "source": [
    "img_tensor = transform_train(img)\n",
    "print(img_tensor.shape)\n",
    "print(img_tensor * 255)"
   ]
  },
  {
   "cell_type": "code",
   "execution_count": 28,
   "metadata": {},
   "outputs": [
    {
     "name": "stdout",
     "output_type": "stream",
     "text": [
      "<PIL.Image.Image image mode=RGB size=32x32 at 0x7F8BBD4968B0>\n"
     ]
    }
   ],
   "source": [
    "print(img)"
   ]
  },
  {
   "cell_type": "code",
   "execution_count": null,
   "metadata": {},
   "outputs": [],
   "source": []
  },
  {
   "cell_type": "code",
   "execution_count": null,
   "metadata": {},
   "outputs": [],
   "source": []
  }
 ],
 "metadata": {
  "kernelspec": {
   "display_name": "Python 3 (ipykernel)",
   "language": "python",
   "name": "python3"
  },
  "language_info": {
   "codemirror_mode": {
    "name": "ipython",
    "version": 3
   },
   "file_extension": ".py",
   "mimetype": "text/x-python",
   "name": "python",
   "nbconvert_exporter": "python",
   "pygments_lexer": "ipython3",
   "version": "3.9.13"
  },
  "vscode": {
   "interpreter": {
    "hash": "10a24657a19f8a86970a0515c745805f020e16c91b0d8e5baaee85f7e6767653"
   }
  }
 },
 "nbformat": 4,
 "nbformat_minor": 4
}
